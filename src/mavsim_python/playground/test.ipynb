{
 "cells": [
  {
   "cell_type": "markdown",
   "metadata": {},
   "source": [
    "\n",
    "# This is a heading\n",
    "$e^x = \\sum_{i=0}^\\infty i$"
   ]
  },
  {
   "cell_type": "code",
   "execution_count": 28,
   "metadata": {},
   "outputs": [
    {
     "name": "stdout",
     "output_type": "stream",
     "text": [
      "Resulting Matrix = \n"
     ]
    },
    {
     "data": {
      "text/plain": [
       "array([[ 0.29192658, -0.07207501,  0.95372117],\n",
       "       [ 0.45464871,  0.88774982, -0.07207501],\n",
       "       [-0.84147098,  0.45464871,  0.29192658]])"
      ]
     },
     "metadata": {},
     "output_type": "display_data"
    }
   ],
   "source": [
    "from mav_sim.tools.rotations import Euler2Rotation\n",
    "\n",
    "R = Euler2Rotation(1.0, 1.0, 1.0)\n",
    "print(\"Resulting Matrix = \")\n",
    "display(R)"
   ]
  },
  {
   "cell_type": "markdown",
   "metadata": {},
   "source": [
    "## Multiple R by 0"
   ]
  },
  {
   "cell_type": "code",
   "execution_count": 29,
   "metadata": {},
   "outputs": [
    {
     "data": {
      "text/plain": [
       "array([[ 0., -0.,  0.],\n",
       "       [ 0.,  0., -0.],\n",
       "       [-0.,  0.,  0.]])"
      ]
     },
     "metadata": {},
     "output_type": "display_data"
    }
   ],
   "source": [
    "zero = R * 0\n",
    "display(zero)"
   ]
  },
  {
   "cell_type": "markdown",
   "metadata": {},
   "source": [
    "## Matrix multiplication\n",
    "\n"
   ]
  },
  {
   "cell_type": "code",
   "execution_count": 30,
   "metadata": {},
   "outputs": [
    {
     "name": "stdout",
     "output_type": "stream",
     "text": [
      "Element_mult\n"
     ]
    },
    {
     "data": {
      "text/plain": [
       "array([[0.08522113, 0.00519481, 0.90958406],\n",
       "       [0.20670545, 0.78809974, 0.00519481],\n",
       "       [0.70807342, 0.20670545, 0.08522113]])"
      ]
     },
     "metadata": {},
     "output_type": "display_data"
    },
    {
     "name": "stdout",
     "output_type": "stream",
     "text": [
      "mat_mult\n"
     ]
    },
    {
     "data": {
      "text/plain": [
       "array([[-0.75007637,  0.34858291,  0.56202793],\n",
       "       [ 0.59698739,  0.72256212,  0.34858291],\n",
       "       [-0.28459004,  0.59698739, -0.75007637]])"
      ]
     },
     "metadata": {},
     "output_type": "display_data"
    }
   ],
   "source": [
    "element_mult = R * R\n",
    "print(\"Element_mult\")\n",
    "display(element_mult)\n",
    "\n",
    "mat_mult = R @ R\n",
    "print(\"mat_mult\")\n",
    "display(mat_mult)"
   ]
  },
  {
   "cell_type": "markdown",
   "metadata": {},
   "source": [
    "# Trying pygqtgraph"
   ]
  },
  {
   "cell_type": "code",
   "execution_count": 31,
   "metadata": {},
   "outputs": [
    {
     "data": {
      "image/png": "[encoded data removed]",
      "text/plain": [
       "<IPython.core.display.Image object>"
      ]
     },
     "metadata": {},
     "output_type": "display_data"
    }
   ],
   "source": [
    "#%gui qt5\n",
    "from PyQt5.Qt import QApplication\n",
    "\n",
    "# start qt event loop\n",
    "_instance = QApplication.instance()\n",
    "if not _instance:\n",
    "    _instance = QApplication([])\n",
    "app = _instance\n",
    "\n",
    "import pyqtgraph as pg\n",
    "import pyqtgraph.exporters as pge\n",
    "from IPython.display import display, Image\n",
    "\n",
    "# create and and set layout\n",
    "view = pg.GraphicsView()\n",
    "view.setWindowTitle(\"Your title\")\n",
    "layout = pg.GraphicsLayout()\n",
    "view.setCentralItem(layout)\n",
    "view.show()\n",
    "\n",
    "# Set white graph\n",
    "pg.setConfigOptions(antialias=True)\n",
    "pg.setConfigOption(\"background\", \"w\")\n",
    "pg.setConfigOption(\"foreground\", \"k\")\n",
    "\n",
    "# add subplots\n",
    "p0 = layout.addPlot(0, 0)\n",
    "p0.addLegend()\n",
    "p0.plot([1, 2, 3, 4, 5], pen=\"b\", name=\"p0\")\n",
    "\n",
    "p1 = layout.addPlot(1, 0)\n",
    "p1.addLegend()\n",
    "p1.plot(\n",
    "    [\n",
    "        2,\n",
    "        2,\n",
    "        2,\n",
    "        2,\n",
    "    ],\n",
    "    pen=\"r\",\n",
    "    name=\"p1\",\n",
    ")\n",
    "\n",
    "p2 = layout.addPlot(1, 0)\n",
    "p2.addLegend(offset=(50, 0))\n",
    "p2.plot(\n",
    "    [\n",
    "        -1,\n",
    "        0,\n",
    "        1,\n",
    "        1,\n",
    "    ],\n",
    "    pen=\"g\",\n",
    "    name=\"p1.1\",\n",
    ")\n",
    "p2.hideAxis(\"left\")\n",
    "p2.showAxis(\"right\")\n",
    "\n",
    "\n",
    "img = p1.writeImage(\"tmp.png\")\n",
    "display(Image(filename=\"tmp.png\"))"
   ]
  }
 ],
 "metadata": {
  "interpreter": {
   "hash": "30ca21fc09f4c56e5acbea1f4499c31c12f30cf571b9542568708a4c43724cf0"
  },
  "kernelspec": {
   "display_name": "Python 3.9.9 64-bit ('mav_venv': venv)",
   "language": "python",
   "name": "python3"
  },
  "language_info": {
   "codemirror_mode": {
    "name": "ipython",
    "version": 3
   },
   "file_extension": ".py",
   "mimetype": "text/x-python",
   "name": "python",
   "nbconvert_exporter": "python",
   "pygments_lexer": "ipython3",
   "version": "3.9.9"
  },
  "orig_nbformat": 4
 },
 "nbformat": 4,
 "nbformat_minor": 2
}
