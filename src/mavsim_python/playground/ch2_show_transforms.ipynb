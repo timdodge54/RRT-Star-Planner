{
 "cells": [
  {
   "cell_type": "code",
   "execution_count": 1,
   "metadata": {},
   "outputs": [
    {
     "name": "stdout",
     "output_type": "stream",
     "text": [
      "Initializing mav_view\n"
     ]
    }
   ],
   "source": [
    "# Note that this cell can be run separately to initialize for other cell blocks\n",
    "import mav_sim.parameters.simulation_parameters as SIM  # parameters\n",
    "from mav_sim.chap2.mav_viewer import MavViewer  # Viewer for MAV\n",
    "from mav_sim.chap2.video_writer import VideoWriter  # Creation of videos\n",
    "from mav_sim.message_types.msg_state import MsgState  # message types\n",
    "\n",
    "# The viewers need to be initialized once due to restart issues with qtgraph\n",
    "if \"mav_view\" not in globals():\n",
    "    print(\"Initializing mav_view\")\n",
    "    global mav_view\n",
    "    mav_view = MavViewer()  # initialize the mav viewer"
   ]
  },
  {
   "cell_type": "code",
   "execution_count": 3,
   "metadata": {},
   "outputs": [],
   "source": [
    "# Show translation motion\n",
    "\n",
    "# initialize messages\n",
    "state = MsgState()  # instantiate state message\n",
    "\n",
    "# initialize the simulation time\n",
    "sim_time = SIM.start_time\n",
    "\n",
    "# main simulation loop\n",
    "while sim_time < 7.5:\n",
    "    # -------vary states to check viewer-------------\n",
    "    if sim_time < 2.5:\n",
    "        state.north += 10 * SIM.ts_simulation\n",
    "    elif sim_time < 5:\n",
    "        state.east += 10 * SIM.ts_simulation\n",
    "    elif sim_time < 7.5:\n",
    "        state.altitude += 10 * SIM.ts_simulation\n",
    "\n",
    "    # -------update viewer and video-------------\n",
    "    mav_view.update(state)\n",
    "\n",
    "    # -------increment time-------------\n",
    "    sim_time += SIM.ts_simulation"
   ]
  },
  {
   "cell_type": "code",
   "execution_count": 7,
   "metadata": {},
   "outputs": [],
   "source": [
    "# Show yawing motion\n",
    "\n",
    "# initialize messages\n",
    "state = MsgState()  # instantiate state message\n",
    "\n",
    "# initialize the simulation time\n",
    "sim_time = SIM.start_time\n",
    "\n",
    "# main simulation loop\n",
    "while sim_time < 15:\n",
    "    # -------vary states to check viewer-------------\n",
    "    if sim_time < 5:\n",
    "        state.psi += 0.1 * SIM.ts_simulation\n",
    "    else:\n",
    "        state.psi -= 0.1 * SIM.ts_simulation\n",
    "\n",
    "    # -------update viewer and video-------------\n",
    "    mav_view.update(state)\n",
    "\n",
    "    # -------increment time-------------\n",
    "    sim_time += SIM.ts_simulation"
   ]
  },
  {
   "cell_type": "code",
   "execution_count": 5,
   "metadata": {},
   "outputs": [],
   "source": [
    "# Show pitch motion\n",
    "\n",
    "# initialize messages\n",
    "state = MsgState()  # instantiate state message\n",
    "\n",
    "# initialize the simulation time\n",
    "sim_time = SIM.start_time\n",
    "\n",
    "# main simulation loop\n",
    "while sim_time < 15:\n",
    "    # -------vary states to check viewer-------------\n",
    "    if sim_time < 5:\n",
    "        state.theta += 0.1 * SIM.ts_simulation\n",
    "    else:\n",
    "        state.theta -= 0.1 * SIM.ts_simulation\n",
    "\n",
    "    # -------update viewer and video-------------\n",
    "    mav_view.update(state)\n",
    "\n",
    "    # -------increment time-------------\n",
    "    sim_time += SIM.ts_simulation"
   ]
  },
  {
   "cell_type": "code",
   "execution_count": 6,
   "metadata": {},
   "outputs": [],
   "source": [
    "# Show roll motion\n",
    "\n",
    "# initialize messages\n",
    "state = MsgState()  # instantiate state message\n",
    "\n",
    "# initialize the simulation time\n",
    "sim_time = SIM.start_time\n",
    "\n",
    "# main simulation loop\n",
    "while sim_time < 15:\n",
    "    # -------vary states to check viewer-------------\n",
    "    if sim_time < 5:\n",
    "        state.phi += 0.1 * SIM.ts_simulation\n",
    "    else:\n",
    "        state.phi -= 0.1 * SIM.ts_simulation\n",
    "\n",
    "    # -------update viewer and video-------------\n",
    "    mav_view.update(state)\n",
    "\n",
    "    # -------increment time-------------\n",
    "    sim_time += SIM.ts_simulation"
   ]
  }
 ],
 "metadata": {
  "interpreter": {
   "hash": "30ca21fc09f4c56e5acbea1f4499c31c12f30cf571b9542568708a4c43724cf0"
  },
  "kernelspec": {
   "display_name": "Python 3.9.9 64-bit ('mav_venv': venv)",
   "language": "python",
   "name": "python3"
  },
  "language_info": {
   "codemirror_mode": {
    "name": "ipython",
    "version": 3
   },
   "file_extension": ".py",
   "mimetype": "text/x-python",
   "name": "python",
   "nbconvert_exporter": "python",
   "pygments_lexer": "ipython3",
   "version": "3.9.10"
  },
  "orig_nbformat": 4
 },
 "nbformat": 4,
 "nbformat_minor": 2
}
