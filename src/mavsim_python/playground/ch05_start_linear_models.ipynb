{
 "cells": [
  {
   "cell_type": "markdown",
   "metadata": {},
   "source": [
    "## Problem 1: Creating trim trajectory calculator\n",
    "A trim state and input produce constant dynamic outputs. One way to produce the trim states and inputs is to solve an optimization problem that results in the desired trim state derivative. Consider the objective function defined as\n",
    "\n",
    "$$\n",
    "    \\min_{x_{trim}, \\delta_{trim}} \\bigl( f(x_{trim}, \\delta_{trim}) - f_d \\bigr)^T Q \\bigl( f(x_{trim}, \\delta_{trim}) - f_d \\bigr)\n",
    "$$\n",
    "where $f(x_{trim}, \\delta_{trim})$ denotes the dynamics given the trim state and input, $f_d$ denotes the desired dynamics, and $Q \\succeq 0$ is a diagonal matrix with zeros and ones along the diagonal (i.e., $Q = diag([0, 0, 1, ..., 1])$. If possible, the optimization will produce trim states and inputs such that $f = f_d$. \n",
    "\n",
    "Do the following\n",
    "1. Explain in your own words each of the major lines in the function `compute_trim(...)` located in `chap5\\trim.py`. Ensure that you explain each constraint\n",
    "2. Implement the `trim_objective_fun` located in `chap5\\trim.py`\n",
    "\n",
    "\n",
    "### Explanation of `compute_trim(...)`\n",
    "(Answer here)"
   ]
  },
  {
   "cell_type": "code",
   "execution_count": null,
   "metadata": {},
   "outputs": [],
   "source": [
    "# Note that this cell can be run separately to initialize for other cell blocks\n",
    "import numpy as np\n",
    "from mav_sim.chap3.mav_dynamics import DynamicState\n",
    "from mav_sim.chap4.run_sim import run_sim\n",
    "from mav_sim.message_types.msg_sim_params import MsgSimParams\n",
    "from mav_sim.message_types.msg_delta import MsgDelta\n",
    "from mav_sim.tools.display_figures import display_data_view, display_mav_view\n",
    "from mav_sim.chap2.mav_viewer import MavViewer\n",
    "from mav_sim.chap3.data_viewer import DataViewer\n",
    "from mav_sim.chap5.trim import compute_trim\n",
    "from IPython.display import display  # Used to display variables nicely in Jupyter\n",
    "from mav_sim.chap3.mav_dynamics import DynamicState, derivatives\n",
    "from mav_sim.chap4.mav_dynamics import forces_moments, update_velocity_data\n",
    "from mav_sim.tools.signals import Signals\n",
    "\n",
    "# The viewers need to be initialized once due to restart issues with qtgraph\n",
    "if \"mav_view\" not in globals():\n",
    "    print(\"Initializing mav_view\")\n",
    "    global mav_view\n",
    "    mav_view = MavViewer()  # initialize the mav viewer\n",
    "if \"data_view\" not in globals():\n",
    "    print(\"Initializing data_view\")\n",
    "    global data_view\n",
    "    data_view = DataViewer()  # initialize view of data plots\n",
    "\n",
    "# Initialize state values\n",
    "sim_params = MsgSimParams(end_time=40.0, video_name=\"chap5.avi\")\n",
    "state = DynamicState()\n",
    "\n",
    "# Functions used below\n",
    "def run_sim_and_display(delta_fnc, init_state):\n",
    "    global mav_view\n",
    "    global data_view\n",
    "    data_view.reset(sim_params.start_time)\n",
    "    (mav_view, data_view) = run_sim(\n",
    "        sim_params, delta_fnc, DynamicState(init_state), mav_view, data_view\n",
    "    )\n",
    "    display_data_view(data_view)\n",
    "    display_mav_view(mav_view)"
   ]
  },
  {
   "cell_type": "markdown",
   "metadata": {},
   "source": [
    "## Problem 2 - Calculate Trim\n",
    "Do the following:\n",
    "1. Compute a trim state and input for $V_a = 25 \\frac{m}{s}$ and $\\gamma = 0$\n",
    "2. Show that the resulting dynamics are close to the desired dynamics\n",
    "3. Simulate the state and show that the trim values are achieved for a period before numerical errors enter the system\n",
    "\n",
    "Keep in mind the following when comparing results:\n",
    "* $\\dot{p_n}$ and $\\dot{p_e}$ are not important\n",
    "* Your trim state dynamics will not be exact, but they should be close"
   ]
  },
  {
   "cell_type": "code",
   "execution_count": null,
   "metadata": {},
   "outputs": [],
   "source": [
    "# Create the trim state\n",
    "Va_trim = 0.0\n",
    "gamma_trim = 0.0\n",
    "print(\"Need to implement\")\n",
    "trim_state, trim_input = compute_trim(state.convert_to_numpy(), Va_trim, gamma_trim)\n",
    "\n",
    "# Display the trim state and input\n",
    "print(\"trim_state = \")\n",
    "display(trim_state)\n",
    "print(\"trim input = \")\n",
    "trim_input.print()\n",
    "\n",
    "# Calculate the desired state dynamics\n",
    "desired_trim_state_dot = 0\n",
    "print(\"Need to implement\")\n",
    "\n",
    "# Calculate the actual state dynamics\n",
    "f = 0\n",
    "print(\"Need to implement\")\n",
    "\n",
    "# Display the difference\n",
    "f_diff = f - desired_trim_state_dot\n",
    "print(\"Difference between actual and desired (Note that pn and pe are not important):\")\n",
    "display(f_diff)\n",
    "\n",
    "# Create a passthrough function for the trim input\n",
    "pass_delta2 = lambda sim_time: trim_input\n",
    "run_sim_and_display(pass_delta2, trim_state)"
   ]
  },
  {
   "cell_type": "markdown",
   "metadata": {},
   "source": [
    "## Problem 3 - Trim Calculations\n",
    "Repeate problem 2 with $V_a = 35 \\frac{m}{s}$ and $\\gamma = 5$ degrees\n"
   ]
  },
  {
   "cell_type": "code",
   "execution_count": null,
   "metadata": {},
   "outputs": [],
   "source": [
    "print(\"Need to implement\")"
   ]
  },
  {
   "cell_type": "markdown",
   "metadata": {},
   "source": [
    "## Problem 4 - Evaluate Eigenvalues of Longitudinal System\n",
    "The `compute_ss_model(...)` function inside `chap5\\compute_models.py` provides a numerical approximation for the models described in (5.44) and (5.51). \n",
    "\n",
    "For the trim trajectory corresponding to $V_a = 25 \\frac{m}{s}$ and $\\gamma = 0$, do the following:\n",
    "* Calculate the eigenvalues of $A_{lon}$ and $A_{lat}$\n",
    "* Answer the questions below\n",
    "\n",
    "### Question: Which eigenvalue(s) correspond to the short-period mode?\n",
    "(Answer here)\n",
    "\n",
    "### Question: Which eigenvalue(s) correspond to the phugoid mode?\n",
    "(Answer here)\n",
    "\n",
    "### Question: Which eigenvalue(s) corresponds to the spiral-divergence mode?\n",
    "(Answer here)\n",
    "\n",
    "### Question: Which eigenvalue(s) corresponds to the roll mode?\n",
    "(Answer here)\n",
    "\n",
    "### Question: Which eigenvalue(s) corresponds to the dutch-roll mode?\n",
    "(Answer here)\n"
   ]
  },
  {
   "cell_type": "code",
   "execution_count": 2,
   "metadata": {},
   "outputs": [
    {
     "name": "stderr",
     "output_type": "stream",
     "text": [
      "c:\\users\\greg\\documents\\5330_suas_code\\mavsim_solutions\\mavsim_python\\mav_sim\\chap4\\mav_dynamics.py:276: RuntimeWarning: invalid value encountered in sqrt\n",
      "  omega_p = (-b + np.sqrt(b**2 - 4*a*c)) / (2.*a)\n"
     ]
    }
   ],
   "source": [
    "from mav_sim.chap5.compute_models import compute_ss_model\n",
    "\n",
    "# Compute the trim state and input\n",
    "\n",
    "# Compute A_lon and A_lat\n",
    "\n",
    "# Compute the eigenvalues of A_lon\n",
    "\n",
    "# Compute the eigenvalues of A_lat"
   ]
  },
  {
   "cell_type": "markdown",
   "metadata": {},
   "source": [
    "## Problem 5 - Phugoid mode\n",
    "For the trim trajectory corresponding to $V_a = 25 \\frac{m}{s}$ and $\\gamma = 0$, use a doublet to excite the phugoid mode. Simulate the response. (Note that this problem is provided for you)"
   ]
  },
  {
   "cell_type": "code",
   "execution_count": null,
   "metadata": {},
   "outputs": [],
   "source": [
    "# Create the trim state\n",
    "Va_trim = 25.0\n",
    "gamma_trim = 0.0\n",
    "trim_state, trim_input = compute_trim(state.convert_to_numpy(), Va_trim, gamma_trim)\n",
    "\n",
    "# Create an input signal\n",
    "input_signal = Signals(amplitude=0.3, duration=0.3, start_time=5.0)\n",
    "\n",
    "# Create a function for exciting the phugoid mode\n",
    "def excite_phugoid(sim_time: float):\n",
    "    # copy the trim command\n",
    "    delta_cmd = MsgDelta()\n",
    "    delta_cmd.copy(trim_input)\n",
    "\n",
    "    # Excite the phugoid mode\n",
    "    delta_cmd.elevator += input_signal.doublet(sim_time)\n",
    "    return delta_cmd\n",
    "\n",
    "\n",
    "# Run the command\n",
    "run_sim_and_display(excite_phugoid, trim_state)"
   ]
  },
  {
   "cell_type": "markdown",
   "metadata": {},
   "source": [
    "## Problem 6 - Roll and spiral divergence modes\n",
    "For the trim trajectory corresponding to $V_a = 25 \\frac{m}{s}$ and $\\gamma = 0$, use a doublet to excite the roll and spiral divergence modes."
   ]
  },
  {
   "cell_type": "code",
   "execution_count": null,
   "metadata": {},
   "outputs": [],
   "source": [
    "print(\"Need to implement\")"
   ]
  },
  {
   "cell_type": "markdown",
   "metadata": {},
   "source": [
    "## Problem 6 - Dutch roll mode\n",
    "For the trim trajectory corresponding to $V_a = 25 \\frac{m}{s}$ and $\\gamma = 0$, use a doublet to excite the dutch roll mode."
   ]
  },
  {
   "cell_type": "code",
   "execution_count": null,
   "metadata": {},
   "outputs": [],
   "source": [
    "print(\"Need to implement\")"
   ]
  },
  {
   "cell_type": "markdown",
   "metadata": {},
   "source": [
    "## Simple code checking\n",
    "The following code does not need to change. It should just be used as a sanity check so that you know the code is implemented properly. The output should not have any lines reading `Failed test!`"
   ]
  },
  {
   "cell_type": "code",
   "execution_count": null,
   "metadata": {},
   "outputs": [],
   "source": [
    "from mav_sim.unit_tests.ch5_dynamics_test import run_all_tests\n",
    "\n",
    "run_all_tests()"
   ]
  }
 ],
 "metadata": {
  "interpreter": {
   "hash": "30ca21fc09f4c56e5acbea1f4499c31c12f30cf571b9542568708a4c43724cf0"
  },
  "kernelspec": {
   "display_name": "Python 3.9.10 64-bit ('mav_venv': venv)",
   "language": "python",
   "name": "python3"
  },
  "language_info": {
   "codemirror_mode": {
    "name": "ipython",
    "version": 3
   },
   "file_extension": ".py",
   "mimetype": "text/x-python",
   "name": "python",
   "nbconvert_exporter": "python",
   "pygments_lexer": "ipython3",
   "version": "3.10.2"
  },
  "orig_nbformat": 4
 },
 "nbformat": 4,
 "nbformat_minor": 2
}
