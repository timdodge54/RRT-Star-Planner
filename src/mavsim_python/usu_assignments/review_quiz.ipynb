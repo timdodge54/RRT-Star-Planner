{
 "cells": [
  {
   "cell_type": "code",
   "execution_count": 24,
   "metadata": {},
   "outputs": [
    {
     "data": {
      "text/plain": [
       "array([[13.57372955, 11.90069694],\n",
       "       [-0.56840607, -0.82722512],\n",
       "       [-3.92820323, -3.56217783]])"
      ]
     },
     "metadata": {},
     "output_type": "display_data"
    }
   ],
   "source": [
    "from mav_sim.chap2.transforms import *\n",
    "from IPython import display\n",
    "from numpy import sin, cos, tan\n",
    "import numpy as np\n",
    "\n",
    "array = np.array([[10, 9], [8, 7], [6, 5]])\n",
    "x = rot_x(np.pi / 3) @ array\n",
    "z = rot_z(np.pi / 4) @ x\n",
    "display.display(z[1, 2])"
   ]
  },
  {
   "cell_type": "code",
   "execution_count": 16,
   "metadata": {},
   "outputs": [
    {
     "data": {
      "text/plain": [
       "array([[ 4.2172567 ,  3.38074039],\n",
       "       [-9.82334296, -8.72800761],\n",
       "       [ 9.25833025,  8.20929214]])"
      ]
     },
     "metadata": {},
     "output_type": "display_data"
    }
   ],
   "source": [
    "x_1 = rot_x(np.pi / 6) @ array\n",
    "y_1 = rot_y(np.pi / 3) @ x_1\n",
    "z_1 = rot_z(3 * np.pi / 4) @ y_1\n",
    "display.display(z_1)"
   ]
  },
  {
   "cell_type": "code",
   "execution_count": 19,
   "metadata": {},
   "outputs": [
    {
     "data": {
      "text/plain": [
       "array([24.33012702, -5.99038106, 22.66025404])"
      ]
     },
     "metadata": {},
     "output_type": "display_data"
    }
   ],
   "source": [
    "from mav_sim.chap3.mav_dynamics import *\n",
    "\n",
    "phi = np.pi / 3\n",
    "theta = np.pi / 6\n",
    "psi = np.pi / 9\n",
    "pqr = np.array([13, 14, 15])\n",
    "rot_array = np.array(\n",
    "    [\n",
    "        [\n",
    "            1,\n",
    "            sin(phi) * tan(theta),\n",
    "            cos(phi) * tan(theta),\n",
    "        ],\n",
    "        [0, cos(phi), -sin(phi)],\n",
    "        [0, sin(phi) * 1 / cos(theta), cos(phi) * 1 / cos(theta)],\n",
    "    ]\n",
    ")\n",
    "dot = rot_array @ pqr\n",
    "display.display(dot)"
   ]
  },
  {
   "cell_type": "code",
   "execution_count": 21,
   "metadata": {},
   "outputs": [
    {
     "data": {
      "text/plain": [
       "array([[-135.16542616],\n",
       "       [ 170.91577093],\n",
       "       [ -52.35197118]])"
      ]
     },
     "metadata": {},
     "output_type": "display_data"
    }
   ],
   "source": [
    "import mav_sim.parameters.aerosonde_parameters as MAV\n",
    "\n",
    "p, q, r = pqr.item(0), pqr.item(1), pqr.item(2)\n",
    "l, m, n = 4, 5, 6\n",
    "p_q_r0 = np.array(\n",
    "    [\n",
    "        [MAV.gamma1 * p * q - MAV.gamma2 * q * r],\n",
    "        [MAV.gamma5 * p * r - MAV.gamma6 * (p ** 2 - r ** 2)],\n",
    "        [MAV.gamma7 * p * q - MAV.gamma1 * q * r],\n",
    "    ]\n",
    ")\n",
    "p_q_r1 = np.array(\n",
    "    [\n",
    "        [MAV.gamma3 * l + MAV.gamma4 * n],\n",
    "        [(1 / MAV.Jy) * m],\n",
    "        [MAV.gamma4 * l + MAV.gamma8 * n],\n",
    "    ]\n",
    ")\n",
    "rot = p_q_r0 + p_q_r1\n",
    "display.display(rot)"
   ]
  }
 ],
 "metadata": {
  "kernelspec": {
   "display_name": "venv",
   "language": "python",
   "name": "python3"
  },
  "language_info": {
   "codemirror_mode": {
    "name": "ipython",
    "version": 3
   },
   "file_extension": ".py",
   "mimetype": "text/x-python",
   "name": "python",
   "nbconvert_exporter": "python",
   "pygments_lexer": "ipython3",
   "version": "3.10.6"
  },
  "orig_nbformat": 4,
  "vscode": {
   "interpreter": {
    "hash": "f3a37e659f3774e00c08e7da6109cebbccc4308a6290e42d9125cfab62988d22"
   }
  }
 },
 "nbformat": 4,
 "nbformat_minor": 2
}
