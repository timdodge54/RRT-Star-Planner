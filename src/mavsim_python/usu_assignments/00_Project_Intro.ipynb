{
 "cells": [
  {
   "cell_type": "markdown",
   "metadata": {},
   "source": [
    "## Problem 1: Forming Numpy Matrices\n",
    "We will work quite heavily with numpy matrices. A numpy matrix can be created in a host of ways, but the most straight forward is to use the `np.array` initializer. In this case, each row of the matrix is initialized using an array and the matrix is an array of arrays. For example, the following matrix\n",
    "$ex_{mat} = \\begin{bmatrix}1 & 2 & 3 \\\\ 4 & 5 & 6  \\end{bmatrix}$ can be initialized as\n",
    "```\n",
    "ex_mat = np.array([ [1., 2., 3.], \n",
    "                    [4., 5., 6.]])\n",
    "```\n",
    "where the array `[1., 2., 3.]` is the first row and the array `[4., 5., 6.]` is the second.\n",
    "\n",
    "Create two additional matrices. Let $I$ be a $3 \\times 3$ identity matrix and $R$ be a $3 \\times 3$ rotation matrix about the $z$ axis with a rotation of $\\theta = \\frac{\\pi}{4}$."
   ]
  },
  {
   "cell_type": "code",
   "execution_count": null,
   "metadata": {},
   "outputs": [],
   "source": [
    "import numpy as np  # Imports the numpy library and creates the alias np\n",
    "from IPython.display import display  # Used to display variables nicely in Jupyter\n",
    "\n",
    "# Print the example matrix\n",
    "ex_mat = np.array([[1.0, 2.0, 3.0], [4.0, 5.0, 6.0]])\n",
    "print(\"ex_mat = \")\n",
    "display(ex_mat)\n",
    "\n",
    "# Create an identity matrix\n",
    "I = \"Need to implement\"\n",
    "print(\"I = \")\n",
    "display(I)\n",
    "\n",
    "# Create a 3x3 rotation matrix about the z axis\n",
    "th = np.pi / 4  # Angle of rotation\n",
    "c = np.cos(th)\n",
    "s = np.sin(th)\n",
    "R = \"Need to implement\"\n",
    "print(\"R = \")\n",
    "display(R)"
   ]
  },
  {
   "attachments": {},
   "cell_type": "markdown",
   "metadata": {},
   "source": [
    "## Problem 2: Multiplication\n",
    "There are two multiplication operators that you can utilize. The first is the asterisk, `*`, and the second is the ampersand, `@`. Be careful as they produce several different results. Perform each multiplication, display the result, and answer the following question.\n",
    "\n",
    "### Question: What is the difference between `*` and `@`?\n",
    "Answer: (Put answer here)"
   ]
  },
  {
   "cell_type": "code",
   "execution_count": null,
   "metadata": {},
   "outputs": [],
   "source": [
    "# Multiply I and R together with the asterisk and display the results\n",
    "asterisk_multiply = \"Need to implement\"\n",
    "print(\"Result of asterisk multiplication:\")\n",
    "display(asterisk_multiply)\n",
    "\n",
    "# Multiply I and R together with the ampersand and display the results\n",
    "ampersand_multiply = \"Need to implement\"\n",
    "print(\"Result of ampersand multiplication:\")\n",
    "display(ampersand_multiply)"
   ]
  },
  {
   "cell_type": "markdown",
   "metadata": {},
   "source": [
    "## Problem 3: Extracting values\n",
    "Any numpy ndarray with more than a single row is treated as a matrix. Also note that numpy is zero indexed. The matrices are indexed with a double indexing, i.e., *ex_mat[0,0]* will return the top left element.\n",
    "\n",
    "Extract and display the top row, middle column element from *ex_mat*"
   ]
  },
  {
   "cell_type": "code",
   "execution_count": null,
   "metadata": {},
   "outputs": [],
   "source": [
    "# Get the element from the top row and middle column\n",
    "val = \"Need to implement\"\n",
    "print(\"Element from ex_mat in top row and middle column:\")\n",
    "display(val)"
   ]
  },
  {
   "attachments": {},
   "cell_type": "markdown",
   "metadata": {},
   "source": [
    "Now, extract the middle column of `ex_mat` using the slice notation (i.e., `ex_mat[:,0]` gives all rows of the first column). Print the column. Print the shape of `ex_mat` (i.e., `ex_mat.shape`). Print the shape of the extracted middle column. **Note** that the column has lost a dimension! This can cause issues when using numpy as you may have expected the shape of the column to be `(2,1)`, but it is `(2,0)`. Do the same thing for the bottom row of the matrix (using slice notation, `-1` denotes the last element). **Note** that the row has a seemingly weird shape as well. Instead of being `(1,3)` it is `(3,)`."
   ]
  },
  {
   "cell_type": "code",
   "execution_count": null,
   "metadata": {},
   "outputs": [],
   "source": [
    "# Get the middle column\n",
    "mid_col = \"Need to implement\"\n",
    "print(\"Middle column: \")\n",
    "display(mid_col)\n",
    "\n",
    "# Display the shape of ex_mat\n",
    "print(\"Shape of ex_mat: \")\n",
    "display(ex_mat.shape)\n",
    "\n",
    "# Display the shape of middle column\n",
    "print(\"Shape of the middle column: \")\n",
    "display(\"Need to implement\")\n",
    "\n",
    "# Extract the last row\n",
    "last_row = \"Need to implement\"\n",
    "print(\"Last row\")\n",
    "display(last_row)\n",
    "\n",
    "# Display last row shape\n",
    "print(\"Shape of the last row: \")\n",
    "display(\"Need to implement\")"
   ]
  }
 ],
 "metadata": {
  "kernelspec": {
   "display_name": "mav_venv",
   "language": "python",
   "name": "python3"
  },
  "language_info": {
   "codemirror_mode": {
    "name": "ipython",
    "version": 3
   },
   "file_extension": ".py",
   "mimetype": "text/x-python",
   "name": "python",
   "nbconvert_exporter": "python",
   "pygments_lexer": "ipython3",
   "version": "3.9.13"
  },
  "orig_nbformat": 4,
  "vscode": {
   "interpreter": {
    "hash": "fce2dbb18319ebf9038468f3349af8b308ee8dc85e2187295367618fa8e1a6cd"
   }
  }
 },
 "nbformat": 4,
 "nbformat_minor": 2
}
