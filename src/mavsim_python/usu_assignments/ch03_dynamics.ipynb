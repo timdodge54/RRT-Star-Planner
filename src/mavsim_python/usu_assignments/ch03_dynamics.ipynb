{
 "cells": [
  {
   "attachments": {},
   "cell_type": "markdown",
   "metadata": {},
   "source": [
    "## Problem 0: Implementation\n",
    "Implement the `derivatives` function in `chap3/mav_dynamics.py`using the quaternion form of the dynamics described in equations *(B.1)* through *(B.6)* of *Appendix B* in the book. Note that the dynamics utilized are from the Aerosonde UAV from Table E.2. The first column of these parameters should provide / aid your intuition about what is occuring.\n",
    "\n",
    "Below are some useful code snippets and hints:\n",
    "* *st = DynamicState(state):* Extract the numpy matrix into a struct for easy access of states. Note that the *DynamicsState* struct is defined on line 46.\n",
    "* *fm = ForceMoments(forces_moments):* Extract forces and moments into a struct for easy access. Note that the *ForceMoments* struct is defined on line 124.\n",
    "* The momemtum terms are defined in *mav_sim.parameters.aerosonde_parameters.py* and are imported as MAV (i.e., to get $\\Gamma_1$, call *MAV.gamma1*)\n",
    "* Equation *(3.14)* can be used instead of *(B.1)* by converting the quaternion to a rotation matrix using *Quaternion2Rotation(state[IND.QUAT])*\n",
    "* The velocity values can be extracted as a vector as *state[IND.VEL]*\n",
    "\n",
    "Implement the `derivatives_euler` function in `chap3/mav_dynamics_euler.py` using the equations from chapter 3. Note that this will not be used in the problems below, but it will be tested in the unit test and used in the assignment for chapter 5.\n",
    "\n",
    "## Problem 1: No Inputs, Zero Initial Conditions\n",
    "For this problem, you will test the dynamics function with no input forces and torques, and all initial velocities set to zero. Set the initial conditions such that the vehicle starts at zero north and east position, and an altitude of 5 meters.  Set the initial attitude (yaw) to $\\frac{\\pi}{4}$ and zero roll and pitch.  Set all velocities to zero.\n",
    "\n",
    "### Question: What behavior do you expect (try to be explicit in terms of what different states will do)?\n",
    "**Answer:** \n",
    "* I expect the plane to move to be at the inital conditions and stay stable\n",
    "\n",
    "### Question: Was the behavior as expected? If not, what did you observe differently from what you thought you would? Why did this difference occur?\n",
    "**Answer:** (Answer after completion)\n",
    "* I was correct "
   ]
  },
  {
   "cell_type": "code",
   "execution_count": null,
   "metadata": {},
   "outputs": [],
   "source": [
    "# Note that this cell can be run separately to initialize for other cell blocks\n",
    "from mav_sim.chap3.mav_dynamics import DynamicState, ForceMoments\n",
    "from mav_sim.chap3.run_sim import run_sim\n",
    "from mav_sim.message_types.msg_sim_params import MsgSimParams\n",
    "from mav_sim.tools.display_figures import display_data_view, display_mav_view\n",
    "from mav_sim.chap2.mav_viewer import MavViewer\n",
    "from mav_sim.chap3.data_viewer import DataViewer\n",
    "import numpy as np\n",
    "\n",
    "# The viewers need to be initialized once due to restart issues with qtgraph\n",
    "if \"mav_view\" not in globals():\n",
    "    print(\"Initializing mav_view\")\n",
    "    global mav_view\n",
    "    mav_view = MavViewer()  # initialize the mav viewer\n",
    "if \"data_view\" not in globals():\n",
    "    print(\"Initializing data_view\")\n",
    "    global data_view\n",
    "    data_view = DataViewer()  # initialize view of data plots\n",
    "\n",
    "\n",
    "def run_sim_and_display(sim_params, state, fm):\n",
    "    global mav_view\n",
    "    global data_view\n",
    "    data_view.reset(sim_params.start_time)\n",
    "    (mav_view, data_view) = run_sim(sim_params, state, fm, mav_view, data_view)\n",
    "    display_data_view(data_view)\n",
    "    display_mav_view(mav_view)"
   ]
  },
  {
   "cell_type": "code",
   "execution_count": null,
   "metadata": {},
   "outputs": [],
   "source": [
    "# Initialize the simulation parameters\n",
    "sim_params = MsgSimParams(end_time=20.0)  # Sim ending in 10 seconds\n",
    "state = DynamicState(state=np.zeros([13, 1]))  # State initialized to zeros\n",
    "state.down = -5.0\n",
    "state.set_attitude_euler(0.0, 0.0, np.pi / 4)\n",
    "fm = ForceMoments(force_moment=np.zeros([6, 1]))  # Set all forces equal to zero\n",
    "\n",
    "# Run the simulation and display the data\n",
    "run_sim_and_display(sim_params, state, fm)"
   ]
  },
  {
   "attachments": {},
   "cell_type": "markdown",
   "metadata": {},
   "source": [
    "## Problem 2: No Inputs, Non-Zero Initial Conditions\n",
    "For this problem, you will test the dynamics function with no input forces and torques. Set the initial velocities such that the UAV is flying straight at $1 \\frac{m}{s}$. Set the initial conditions such that the vehicle starts at zero north, zero east, and an altitude of 5 meters.  Set the initial attitude (yaw) to $\\frac{\\pi}{4}$ with zero roll and pitch.  \n",
    "\n",
    "### Question: What behavior do you expect (try to be explicit in terms of what different states will do)?\n",
    "**Answer:** (Answer before completion)\n",
    "* I expect the positions of north and east to increase linearly and everything else to be held constant\n",
    "\n",
    "### Question: Was the behavior as expected? If not, what did you observe differently from what you thought you would? Why did this difference occur?\n",
    "**Answer:** (Answer after completion)\n",
    "* I was correct"
   ]
  },
  {
   "cell_type": "code",
   "execution_count": null,
   "metadata": {},
   "outputs": [],
   "source": [
    "# Initialize the simulation parameters\n",
    "sim_params = MsgSimParams(end_time=20.0)  # Sim ending in 10 seconds\n",
    "state = DynamicState(state=np.zeros([13, 1]))  # State initialized to zeros\n",
    "state.down = -5.0\n",
    "state.u = 1.0\n",
    "state.set_attitude_euler(0.0, 0.0, np.pi / 4)\n",
    "fm = ForceMoments(force_moment=np.zeros([6, 1]))  # Set all forces equal to zero\n",
    "\n",
    "# Run the simulation and display the data\n",
    "run_sim_and_display(sim_params, state, fm)"
   ]
  },
  {
   "attachments": {},
   "cell_type": "markdown",
   "metadata": {},
   "source": [
    "## Problem 3: No Inputs, Non-Zero Initial Rotational Velocities\n",
    "For this problem, you will test the dynamics function with no input forces and torques, but with initial rotational velocities. Set the initial velocities such that the UAV is at rest. Set the initial conditions such that the vehicle starts at zero north, zero east, and an altitude of 5 meters.  Set the initial attitude (yaw) to $\\frac{\\pi}{4}$ with zero roll and pitch. Set the initial roll rate to $0.5$ 0.5 rad/s.\n",
    "\n",
    "### Question: What behavior do you expect (try to be explicit in terms of what different states will do)?\n",
    "**Answer:** (Answer before completion)\n",
    "* I expect rotatation about the x axis and because of the cross terms in the inertia matrix i expect the plane to wobble.\n",
    "\n",
    "### Question: Was the behavior as expected? If not, what did you observe differently from what you thought you would? Why did this difference occur?\n",
    "**Answer:** (Answer after completion)\n",
    "* I was correct"
   ]
  },
  {
   "cell_type": "code",
   "execution_count": null,
   "metadata": {},
   "outputs": [],
   "source": [
    "# Initialize the simulation parameters\n",
    "sim_params = MsgSimParams(end_time=20.0)  # Sim ending in 10 seconds\n",
    "state = DynamicState(state=np.zeros([13, 1]))  # State initialized to zeros\n",
    "state.down = -5.0\n",
    "state.set_attitude_euler(0.0, 0.0, np.pi / 4)\n",
    "state.p = 0.5\n",
    "fm = ForceMoments(force_moment=np.zeros([6, 1]))  # Set all forces equal to zero\n",
    "\n",
    "# Run the simulation and display the data\n",
    "run_sim_and_display(sim_params, state, fm)"
   ]
  },
  {
   "attachments": {},
   "cell_type": "markdown",
   "metadata": {},
   "source": [
    "## Problem 4: Constant Force Inputs\n",
    "For this problem, you will test the dynamics function with zero initial conditions and constant force inputs. Set the initial conditions such that the vehicle starts at zero north and east position, and an altitude of 5 meters.  Set the initial attitude (yaw) to $\\frac{\\pi}{4}$ and zero roll and pitch.  Set all velocities to zero. Define the input forces to $0.1 $ Newton in the direction of $i^b$ and $0.5$ Newton in an upwards direction.\n",
    "\n",
    "### Question: What behavior do you expect (try to be explicit in terms of what different states will do)?\n",
    "**Answer:** (Answer before completion)\n",
    "\n",
    "### Question: Was the behavior as expected? If not, what did you observe differently from what you thought you would? Why did this difference occur?\n",
    "**Answer:** (Answer after completion)"
   ]
  },
  {
   "cell_type": "code",
   "execution_count": null,
   "metadata": {},
   "outputs": [],
   "source": [
    "# Initialize the simulation parameters\n",
    "sim_params = MsgSimParams(end_time=20.0)  # Sim ending in 10 seconds\n",
    "state = DynamicState(state=np.zeros([13, 1]))  # State initialized to zeros\n",
    "state.down = -5.0\n",
    "state.set_attitude_euler(0.0, 0.0, np.pi / 4)\n",
    "fm = ForceMoments(force_moment=np.zeros([6, 1]))  # Set all forces equal to zero\n",
    "fm.fx = 0.1\n",
    "fm.fz = 0.5"
   ]
  },
  {
   "attachments": {},
   "cell_type": "markdown",
   "metadata": {},
   "source": [
    "## Problem 5: Constant Torque Inputs\n",
    "For this problem, you will test the dynamics function with zero initial conditions and constant force inputs. Set the initial conditions such that the vehicle starts at zero north and east position, and an altitude of 5 meters.  Set the initial attitude (yaw) to $\\frac{\\pi}{4}$ and zero roll and pitch.  Set all velocities to zero. Define the torque about the $x$-axis as 0.1 with all other torques and forces zeroed out.\n",
    "\n",
    "### Question: What behavior do you expect (try to be explicit in terms of what different states will do)?\n",
    "**Answer:** (Answer before completion)\n",
    "\n",
    "### Question: Was the behavior as expected? If not, what did you observe differently from what you thought you would? Why did this difference occur?\n",
    "**Answer:** (Answer after completion)"
   ]
  },
  {
   "cell_type": "code",
   "execution_count": null,
   "metadata": {},
   "outputs": [],
   "source": [
    "# Initialize the simulation parameters\n",
    "sim_params = MsgSimParams(end_time=20.0)  # Sim ending in 10 seconds\n",
    "state = DynamicState(state=np.zeros([13, 1]))  # State initialized to zeros\n",
    "state.down = -5.0\n",
    "state.set_attitude_euler(0.0, 0.0, np.pi / 4)\n",
    "fm = ForceMoments(force_moment=np.zeros([6, 1]))  # Set all forces equal to zero\n",
    "fm.l = 0.1"
   ]
  },
  {
   "attachments": {},
   "cell_type": "markdown",
   "metadata": {},
   "source": [
    "## Static analysis\n",
    "Run the static code analysis (you must have zero static code analysis errors to get credit). You may not modify the static code analysis configuration files.\n",
    "\n",
    "### ISORT\n",
    "Run Isort:\n",
    "```\n",
    "python -m isort mav_sim book_assignments\n",
    "```\n",
    "\n",
    "Terminal output (should be nothing):\n",
    "\n",
    "### MyPy\n",
    "Run MyPy\n",
    "```\n",
    "python -m mypy mav_sim/chap2/ mav_sim/chap3/ book_assignments\n",
    "```\n",
    "\n",
    "Terminal output (should indicate no error):\n",
    "```\n",
    "(Put output here)\n",
    "```\n",
    "\n",
    "### Pylint\n",
    "Run Pylint\n",
    "```\n",
    "python -m pylint --jobs 0 --rcfile .pylintrc mav_sim/chap2/ mav_sim/chap3/ book_assignments/\n",
    "```\n",
    "\n",
    "Terminal output (should indicate `10/10`)\n",
    "```\n",
    "(Put output here)\n",
    "```"
   ]
  },
  {
   "cell_type": "markdown",
   "metadata": {},
   "source": [
    "## Simple code checking\n",
    "The following code does not need to change. It is just used to know if the code is implemented properly. The output should not have any lines reading `Failed test!`"
   ]
  },
  {
   "cell_type": "code",
   "execution_count": null,
   "metadata": {},
   "outputs": [],
   "source": [
    "from mav_sim.unit_tests.ch3_derivatives_test import DynamicsResults, run_tests\n",
    "\n",
    "run_tests()"
   ]
  }
 ],
 "metadata": {
  "kernelspec": {
   "display_name": "vevn",
   "language": "python",
   "name": "python3"
  },
  "language_info": {
   "codemirror_mode": {
    "name": "ipython",
    "version": 3
   },
   "file_extension": ".py",
   "mimetype": "text/x-python",
   "name": "python",
   "nbconvert_exporter": "python",
   "pygments_lexer": "ipython3",
   "version": "3.10.9"
  },
  "orig_nbformat": 4,
  "vscode": {
   "interpreter": {
    "hash": "7a6ff9b309bac137bfe7c4cc33eb6f3e464afbccda09a07f3ae0879e286184f4"
   }
  }
 },
 "nbformat": 4,
 "nbformat_minor": 2
}
